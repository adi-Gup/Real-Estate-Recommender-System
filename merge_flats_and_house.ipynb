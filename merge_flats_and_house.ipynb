{
  "nbformat": 4,
  "nbformat_minor": 0,
  "metadata": {
    "colab": {
      "provenance": []
    },
    "kernelspec": {
      "name": "python3",
      "display_name": "Python 3"
    },
    "language_info": {
      "name": "python"
    }
  },
  "cells": [
    {
      "cell_type": "code",
      "execution_count": null,
      "metadata": {
        "id": "2C7CtfOD7mqt"
      },
      "outputs": [],
      "source": [
        "import numpy as np\n",
        "import pandas as pd\n"
      ]
    },
    {
      "cell_type": "code",
      "source": [
        "flats = pd.read_csv('flats_cleaned.csv')\n",
        "houses = pd.read_csv('house_cleaned.csv')"
      ],
      "metadata": {
        "id": "FQEP0LxP7nja"
      },
      "execution_count": null,
      "outputs": []
    },
    {
      "cell_type": "code",
      "source": [
        "df = pd.concat([flats,houses],ignore_index=True)\n"
      ],
      "metadata": {
        "id": "0nyfsAwU7nme"
      },
      "execution_count": null,
      "outputs": []
    },
    {
      "cell_type": "code",
      "source": [
        "df.sample(10)"
      ],
      "metadata": {
        "colab": {
          "base_uri": "https://localhost:8080/",
          "height": 1000
        },
        "id": "ZyiFqz0r7npn",
        "outputId": "3fe91d94-daeb-47fb-eb8c-5994aaefc5d4"
      },
      "execution_count": null,
      "outputs": [
        {
          "output_type": "execute_result",
          "data": {
            "text/plain": [
              "                         property_name property_type  \\\n",
              "773    3 BHK Flat in Sector 83 Gurgaon          flat   \n",
              "170   2 BHK Flat in Sector 99A Gurgaon          flat   \n",
              "2075   2 BHK Flat in Sector 68 Gurgaon          flat   \n",
              "2791  2 BHK Flat in Sector 110 Gurgaon          flat   \n",
              "2145  2 BHK Flat in Sector 67A Gurgaon          flat   \n",
              "1781   3 BHK Flat in Sector 84 Gurgaon          flat   \n",
              "1088  3 BHK Flat in Sector 70A Gurgaon          flat   \n",
              "1278  3 BHK Flat in Sector 82A Gurgaon          flat   \n",
              "1022   4 BHK Flat in Sector 72 Gurgaon          flat   \n",
              "868          1 BHK Flat in Palam Vihar          flat   \n",
              "\n",
              "                          society  price  price_per_sqft    area  \\\n",
              "773                vatika gurgaon   1.18          6801.0  1735.0   \n",
              "170                  raheja vanya   0.85          6789.0  1252.0   \n",
              "2075              pareena mi casa   1.15          9236.0  1245.0   \n",
              "2791   city shri ram apartments 1   0.22          3666.0   600.0   \n",
              "2145                pyramid urban   0.60          8571.0   700.0   \n",
              "1781             antriksh heights   0.90          6206.0  1450.0   \n",
              "1088      aipl the peaceful homes   2.40         11162.0  2150.0   \n",
              "1278               dlf the primus   1.59         10338.0  1538.0   \n",
              "1022                tata primanti   5.00         11363.0  4400.0   \n",
              "868   bestech park view residency   0.56          8553.0   655.0   \n",
              "\n",
              "                                           areaWithType  bedRoom  bathroom  \\\n",
              "773   Super Built up area 1735(161.19 sq.m.)Carpet a...        3         3   \n",
              "170              Super Built up area 1252(116.31 sq.m.)        2         2   \n",
              "2075             Super Built up area 1245(115.66 sq.m.)        2         2   \n",
              "2791               Super Built up area 600(55.74 sq.m.)        2         1   \n",
              "2145               Super Built up area 700(65.03 sq.m.)        2         2   \n",
              "1781  Super Built up area 1725(160.26 sq.m.)Built Up...        3         3   \n",
              "1088             Super Built up area 2150(199.74 sq.m.)        3         3   \n",
              "1278  Super Built up area 1799(167.13 sq.m.)Carpet a...        3         3   \n",
              "1022  Super Built up area 4400(408.77 sq.m.)Built Up...        4         4   \n",
              "868                      Carpet area: 650 (60.39 sq.m.)        1         1   \n",
              "\n",
              "     balcony                      additionalRoom  \\\n",
              "773        2                       not available   \n",
              "170        2                       not available   \n",
              "2075       3                       not available   \n",
              "2791       1                       not available   \n",
              "2145       2                       not available   \n",
              "1781      3+                       not available   \n",
              "1088       3                        servant room   \n",
              "1278      3+                              others   \n",
              "1022      3+  study room,servant room,store room   \n",
              "868        2                       not available   \n",
              "\n",
              "                                               address  floorNum      facing  \\\n",
              "773                Sector 83 Gurgaon, Gurgaon, Haryana      14.0       North   \n",
              "170          B33, Sector 99A Gurgaon, Gurgaon, Haryana       3.0        West   \n",
              "2075               Sector 68 Gurgaon, Gurgaon, Haryana       8.0        East   \n",
              "2791              Sector 110 Gurgaon, Gurgaon, Haryana       1.0         NaN   \n",
              "2145              Sector 67A Gurgaon, Gurgaon, Haryana      14.0         NaN   \n",
              "1781  Upper Floor, Sector 84 Gurgaon, Gurgaon, Haryana      12.0  North-East   \n",
              "1088     11floor, Sector 70A Gurgaon, Gurgaon, Haryana      11.0  South-West   \n",
              "1278  Sector 82a, Sector 82A Gurgaon, Gurgaon, Haryana       5.0  North-East   \n",
              "1022        Ef/7c, Sector 72 Gurgaon, Gurgaon, Haryana       2.0  North-East   \n",
              "868                      Palam Vihar, Gurgaon, Haryana       7.0  South-West   \n",
              "\n",
              "         agePossession                                    nearbyLocations  \\\n",
              "773    1 to 5 Year Old  ['Huda Metro Station (Gurugram)', 'Sapphire 83...   \n",
              "170    Within 6 months  ['The Esplanade Mall', 'Dwarka Expy', 'Suncity...   \n",
              "2075   0 to 1 Year Old  ['Sector 55-56 Metro Station', 'Airia Mall', '...   \n",
              "2791   1 to 5 Year Old  ['Palam Vihar Vyapar kendra', 'Palam triangle'...   \n",
              "2145   0 to 1 Year Old  ['Airia Mall, Sector 68', 'M3M Cosmopolitan Ma...   \n",
              "1781   1 to 5 Year Old  ['Old Bengali Market', 'MatriKiran High School...   \n",
              "1088   1 to 5 Year Old  ['Airia Mall', 'Golf Corse Ext. Rd.', 'Nationa...   \n",
              "1278   1 to 5 Year Old  ['Sapphire 83', 'NH 48', 'Cambridge Montessori...   \n",
              "1022   0 to 1 Year Old  ['Sector 55-56 Metro Station', 'Omaxe City Cen...   \n",
              "868   5 to 10 Year Old  ['Dwarka Sector 21 Metro Station', 'HUDA Marke...   \n",
              "\n",
              "                                            description  \\\n",
              "773   Vatika gurgaon 21 is one of gurgaon's most sou...   \n",
              "170   Prices may go up once dwarka express way work ...   \n",
              "2075  2 units available for sale on 8th floor.\\nCan ...   \n",
              "2791  We are the proud owners of this 2 bhk apartmen...   \n",
              "2145  We are the proud owners of this 2 bhk apartmen...   \n",
              "1781  Check out this 3 bhk apartment for sale in ant...   \n",
              "1088  Aipl the peaceful homes is one of the most pop...   \n",
              "1278  It is basic price advertisement prices depends...   \n",
              "1022  This beautiful 4 bhk flat in sector 72 gurgaon...   \n",
              "868   This 1 bhk flat is located in bestech park vie...   \n",
              "\n",
              "                                         furnishDetails  \\\n",
              "773                                                 NaN   \n",
              "170                                                 NaN   \n",
              "2075                                                 []   \n",
              "2791                                                 []   \n",
              "2145                                                 []   \n",
              "1781                                                NaN   \n",
              "1088  ['5 Fan', '3 Geyser', '6 Light', '3 AC', 'No B...   \n",
              "1278  ['5 Fan', '1 Fridge', '1 Exhaust Fan', '3 Geys...   \n",
              "1022  ['4 Wardrobe', '1 Water Purifier', '12 Fan', '...   \n",
              "868   ['1 Wardrobe', '2 Fan', '1 Geyser', '3 Light',...   \n",
              "\n",
              "                                               features  \\\n",
              "773   ['Feng Shui / Vaastu Compliant', 'Lift(s)', 'M...   \n",
              "170   ['Power Back-up', 'Feng Shui / Vaastu Complian...   \n",
              "2075  ['Feng Shui / Vaastu Compliant', 'Security / F...   \n",
              "2791                                                NaN   \n",
              "2145             ['Lift(s)', 'Park', 'Shopping Centre']   \n",
              "1781  ['Centrally Air Conditioned', 'Water purifier'...   \n",
              "1088  ['Security / Fire Alarm', 'Power Back-up', 'Fe...   \n",
              "1278  ['Centrally Air Conditioned', 'Water purifier'...   \n",
              "1022  ['Centrally Air Conditioned', 'Water purifier'...   \n",
              "868   ['Security / Fire Alarm', 'Lift(s)', 'Maintena...   \n",
              "\n",
              "                                                 rating  \n",
              "773   ['Green Area5 out of 5', 'Construction4.5 out ...  \n",
              "170   ['Environment4 out of 5', 'Safety3 out of 5', ...  \n",
              "2075  ['Environment4 out of 5', 'Lifestyle4 out of 5...  \n",
              "2791  ['Safety4 out of 5', 'Lifestyle4 out of 5', 'E...  \n",
              "2145  ['Environment5 out of 5', 'Lifestyle4 out of 5...  \n",
              "1781  ['Green Area4.5 out of 5', 'Construction3.5 ou...  \n",
              "1088  ['Green Area5 out of 5', 'Construction4.5 out ...  \n",
              "1278  ['Green Area5 out of 5', 'Construction4.5 out ...  \n",
              "1022  ['Green Area4 out of 5', 'Construction4 out of...  \n",
              "868   ['Green Area5 out of 5', 'Construction4 out of...  "
            ],
            "text/html": [
              "\n",
              "  <div id=\"df-f7a3879c-db4a-4044-a195-2952850daf8c\" class=\"colab-df-container\">\n",
              "    <div>\n",
              "<style scoped>\n",
              "    .dataframe tbody tr th:only-of-type {\n",
              "        vertical-align: middle;\n",
              "    }\n",
              "\n",
              "    .dataframe tbody tr th {\n",
              "        vertical-align: top;\n",
              "    }\n",
              "\n",
              "    .dataframe thead th {\n",
              "        text-align: right;\n",
              "    }\n",
              "</style>\n",
              "<table border=\"1\" class=\"dataframe\">\n",
              "  <thead>\n",
              "    <tr style=\"text-align: right;\">\n",
              "      <th></th>\n",
              "      <th>property_name</th>\n",
              "      <th>property_type</th>\n",
              "      <th>society</th>\n",
              "      <th>price</th>\n",
              "      <th>price_per_sqft</th>\n",
              "      <th>area</th>\n",
              "      <th>areaWithType</th>\n",
              "      <th>bedRoom</th>\n",
              "      <th>bathroom</th>\n",
              "      <th>balcony</th>\n",
              "      <th>additionalRoom</th>\n",
              "      <th>address</th>\n",
              "      <th>floorNum</th>\n",
              "      <th>facing</th>\n",
              "      <th>agePossession</th>\n",
              "      <th>nearbyLocations</th>\n",
              "      <th>description</th>\n",
              "      <th>furnishDetails</th>\n",
              "      <th>features</th>\n",
              "      <th>rating</th>\n",
              "    </tr>\n",
              "  </thead>\n",
              "  <tbody>\n",
              "    <tr>\n",
              "      <th>773</th>\n",
              "      <td>3 BHK Flat in Sector 83 Gurgaon</td>\n",
              "      <td>flat</td>\n",
              "      <td>vatika gurgaon</td>\n",
              "      <td>1.18</td>\n",
              "      <td>6801.0</td>\n",
              "      <td>1735.0</td>\n",
              "      <td>Super Built up area 1735(161.19 sq.m.)Carpet a...</td>\n",
              "      <td>3</td>\n",
              "      <td>3</td>\n",
              "      <td>2</td>\n",
              "      <td>not available</td>\n",
              "      <td>Sector 83 Gurgaon, Gurgaon, Haryana</td>\n",
              "      <td>14.0</td>\n",
              "      <td>North</td>\n",
              "      <td>1 to 5 Year Old</td>\n",
              "      <td>['Huda Metro Station (Gurugram)', 'Sapphire 83...</td>\n",
              "      <td>Vatika gurgaon 21 is one of gurgaon's most sou...</td>\n",
              "      <td>NaN</td>\n",
              "      <td>['Feng Shui / Vaastu Compliant', 'Lift(s)', 'M...</td>\n",
              "      <td>['Green Area5 out of 5', 'Construction4.5 out ...</td>\n",
              "    </tr>\n",
              "    <tr>\n",
              "      <th>170</th>\n",
              "      <td>2 BHK Flat in Sector 99A Gurgaon</td>\n",
              "      <td>flat</td>\n",
              "      <td>raheja vanya</td>\n",
              "      <td>0.85</td>\n",
              "      <td>6789.0</td>\n",
              "      <td>1252.0</td>\n",
              "      <td>Super Built up area 1252(116.31 sq.m.)</td>\n",
              "      <td>2</td>\n",
              "      <td>2</td>\n",
              "      <td>2</td>\n",
              "      <td>not available</td>\n",
              "      <td>B33, Sector 99A Gurgaon, Gurgaon, Haryana</td>\n",
              "      <td>3.0</td>\n",
              "      <td>West</td>\n",
              "      <td>Within 6 months</td>\n",
              "      <td>['The Esplanade Mall', 'Dwarka Expy', 'Suncity...</td>\n",
              "      <td>Prices may go up once dwarka express way work ...</td>\n",
              "      <td>NaN</td>\n",
              "      <td>['Power Back-up', 'Feng Shui / Vaastu Complian...</td>\n",
              "      <td>['Environment4 out of 5', 'Safety3 out of 5', ...</td>\n",
              "    </tr>\n",
              "    <tr>\n",
              "      <th>2075</th>\n",
              "      <td>2 BHK Flat in Sector 68 Gurgaon</td>\n",
              "      <td>flat</td>\n",
              "      <td>pareena mi casa</td>\n",
              "      <td>1.15</td>\n",
              "      <td>9236.0</td>\n",
              "      <td>1245.0</td>\n",
              "      <td>Super Built up area 1245(115.66 sq.m.)</td>\n",
              "      <td>2</td>\n",
              "      <td>2</td>\n",
              "      <td>3</td>\n",
              "      <td>not available</td>\n",
              "      <td>Sector 68 Gurgaon, Gurgaon, Haryana</td>\n",
              "      <td>8.0</td>\n",
              "      <td>East</td>\n",
              "      <td>0 to 1 Year Old</td>\n",
              "      <td>['Sector 55-56 Metro Station', 'Airia Mall', '...</td>\n",
              "      <td>2 units available for sale on 8th floor.\\nCan ...</td>\n",
              "      <td>[]</td>\n",
              "      <td>['Feng Shui / Vaastu Compliant', 'Security / F...</td>\n",
              "      <td>['Environment4 out of 5', 'Lifestyle4 out of 5...</td>\n",
              "    </tr>\n",
              "    <tr>\n",
              "      <th>2791</th>\n",
              "      <td>2 BHK Flat in Sector 110 Gurgaon</td>\n",
              "      <td>flat</td>\n",
              "      <td>city shri ram apartments 1</td>\n",
              "      <td>0.22</td>\n",
              "      <td>3666.0</td>\n",
              "      <td>600.0</td>\n",
              "      <td>Super Built up area 600(55.74 sq.m.)</td>\n",
              "      <td>2</td>\n",
              "      <td>1</td>\n",
              "      <td>1</td>\n",
              "      <td>not available</td>\n",
              "      <td>Sector 110 Gurgaon, Gurgaon, Haryana</td>\n",
              "      <td>1.0</td>\n",
              "      <td>NaN</td>\n",
              "      <td>1 to 5 Year Old</td>\n",
              "      <td>['Palam Vihar Vyapar kendra', 'Palam triangle'...</td>\n",
              "      <td>We are the proud owners of this 2 bhk apartmen...</td>\n",
              "      <td>[]</td>\n",
              "      <td>NaN</td>\n",
              "      <td>['Safety4 out of 5', 'Lifestyle4 out of 5', 'E...</td>\n",
              "    </tr>\n",
              "    <tr>\n",
              "      <th>2145</th>\n",
              "      <td>2 BHK Flat in Sector 67A Gurgaon</td>\n",
              "      <td>flat</td>\n",
              "      <td>pyramid urban</td>\n",
              "      <td>0.60</td>\n",
              "      <td>8571.0</td>\n",
              "      <td>700.0</td>\n",
              "      <td>Super Built up area 700(65.03 sq.m.)</td>\n",
              "      <td>2</td>\n",
              "      <td>2</td>\n",
              "      <td>2</td>\n",
              "      <td>not available</td>\n",
              "      <td>Sector 67A Gurgaon, Gurgaon, Haryana</td>\n",
              "      <td>14.0</td>\n",
              "      <td>NaN</td>\n",
              "      <td>0 to 1 Year Old</td>\n",
              "      <td>['Airia Mall, Sector 68', 'M3M Cosmopolitan Ma...</td>\n",
              "      <td>We are the proud owners of this 2 bhk apartmen...</td>\n",
              "      <td>[]</td>\n",
              "      <td>['Lift(s)', 'Park', 'Shopping Centre']</td>\n",
              "      <td>['Environment5 out of 5', 'Lifestyle4 out of 5...</td>\n",
              "    </tr>\n",
              "    <tr>\n",
              "      <th>1781</th>\n",
              "      <td>3 BHK Flat in Sector 84 Gurgaon</td>\n",
              "      <td>flat</td>\n",
              "      <td>antriksh heights</td>\n",
              "      <td>0.90</td>\n",
              "      <td>6206.0</td>\n",
              "      <td>1450.0</td>\n",
              "      <td>Super Built up area 1725(160.26 sq.m.)Built Up...</td>\n",
              "      <td>3</td>\n",
              "      <td>3</td>\n",
              "      <td>3+</td>\n",
              "      <td>not available</td>\n",
              "      <td>Upper Floor, Sector 84 Gurgaon, Gurgaon, Haryana</td>\n",
              "      <td>12.0</td>\n",
              "      <td>North-East</td>\n",
              "      <td>1 to 5 Year Old</td>\n",
              "      <td>['Old Bengali Market', 'MatriKiran High School...</td>\n",
              "      <td>Check out this 3 bhk apartment for sale in ant...</td>\n",
              "      <td>NaN</td>\n",
              "      <td>['Centrally Air Conditioned', 'Water purifier'...</td>\n",
              "      <td>['Green Area4.5 out of 5', 'Construction3.5 ou...</td>\n",
              "    </tr>\n",
              "    <tr>\n",
              "      <th>1088</th>\n",
              "      <td>3 BHK Flat in Sector 70A Gurgaon</td>\n",
              "      <td>flat</td>\n",
              "      <td>aipl the peaceful homes</td>\n",
              "      <td>2.40</td>\n",
              "      <td>11162.0</td>\n",
              "      <td>2150.0</td>\n",
              "      <td>Super Built up area 2150(199.74 sq.m.)</td>\n",
              "      <td>3</td>\n",
              "      <td>3</td>\n",
              "      <td>3</td>\n",
              "      <td>servant room</td>\n",
              "      <td>11floor, Sector 70A Gurgaon, Gurgaon, Haryana</td>\n",
              "      <td>11.0</td>\n",
              "      <td>South-West</td>\n",
              "      <td>1 to 5 Year Old</td>\n",
              "      <td>['Airia Mall', 'Golf Corse Ext. Rd.', 'Nationa...</td>\n",
              "      <td>Aipl the peaceful homes is one of the most pop...</td>\n",
              "      <td>['5 Fan', '3 Geyser', '6 Light', '3 AC', 'No B...</td>\n",
              "      <td>['Security / Fire Alarm', 'Power Back-up', 'Fe...</td>\n",
              "      <td>['Green Area5 out of 5', 'Construction4.5 out ...</td>\n",
              "    </tr>\n",
              "    <tr>\n",
              "      <th>1278</th>\n",
              "      <td>3 BHK Flat in Sector 82A Gurgaon</td>\n",
              "      <td>flat</td>\n",
              "      <td>dlf the primus</td>\n",
              "      <td>1.59</td>\n",
              "      <td>10338.0</td>\n",
              "      <td>1538.0</td>\n",
              "      <td>Super Built up area 1799(167.13 sq.m.)Carpet a...</td>\n",
              "      <td>3</td>\n",
              "      <td>3</td>\n",
              "      <td>3+</td>\n",
              "      <td>others</td>\n",
              "      <td>Sector 82a, Sector 82A Gurgaon, Gurgaon, Haryana</td>\n",
              "      <td>5.0</td>\n",
              "      <td>North-East</td>\n",
              "      <td>1 to 5 Year Old</td>\n",
              "      <td>['Sapphire 83', 'NH 48', 'Cambridge Montessori...</td>\n",
              "      <td>It is basic price advertisement prices depends...</td>\n",
              "      <td>['5 Fan', '1 Fridge', '1 Exhaust Fan', '3 Geys...</td>\n",
              "      <td>['Centrally Air Conditioned', 'Water purifier'...</td>\n",
              "      <td>['Green Area5 out of 5', 'Construction4.5 out ...</td>\n",
              "    </tr>\n",
              "    <tr>\n",
              "      <th>1022</th>\n",
              "      <td>4 BHK Flat in Sector 72 Gurgaon</td>\n",
              "      <td>flat</td>\n",
              "      <td>tata primanti</td>\n",
              "      <td>5.00</td>\n",
              "      <td>11363.0</td>\n",
              "      <td>4400.0</td>\n",
              "      <td>Super Built up area 4400(408.77 sq.m.)Built Up...</td>\n",
              "      <td>4</td>\n",
              "      <td>4</td>\n",
              "      <td>3+</td>\n",
              "      <td>study room,servant room,store room</td>\n",
              "      <td>Ef/7c, Sector 72 Gurgaon, Gurgaon, Haryana</td>\n",
              "      <td>2.0</td>\n",
              "      <td>North-East</td>\n",
              "      <td>0 to 1 Year Old</td>\n",
              "      <td>['Sector 55-56 Metro Station', 'Omaxe City Cen...</td>\n",
              "      <td>This beautiful 4 bhk flat in sector 72 gurgaon...</td>\n",
              "      <td>['4 Wardrobe', '1 Water Purifier', '12 Fan', '...</td>\n",
              "      <td>['Centrally Air Conditioned', 'Water purifier'...</td>\n",
              "      <td>['Green Area4 out of 5', 'Construction4 out of...</td>\n",
              "    </tr>\n",
              "    <tr>\n",
              "      <th>868</th>\n",
              "      <td>1 BHK Flat in Palam Vihar</td>\n",
              "      <td>flat</td>\n",
              "      <td>bestech park view residency</td>\n",
              "      <td>0.56</td>\n",
              "      <td>8553.0</td>\n",
              "      <td>655.0</td>\n",
              "      <td>Carpet area: 650 (60.39 sq.m.)</td>\n",
              "      <td>1</td>\n",
              "      <td>1</td>\n",
              "      <td>2</td>\n",
              "      <td>not available</td>\n",
              "      <td>Palam Vihar, Gurgaon, Haryana</td>\n",
              "      <td>7.0</td>\n",
              "      <td>South-West</td>\n",
              "      <td>5 to 10 Year Old</td>\n",
              "      <td>['Dwarka Sector 21 Metro Station', 'HUDA Marke...</td>\n",
              "      <td>This 1 bhk flat is located in bestech park vie...</td>\n",
              "      <td>['1 Wardrobe', '2 Fan', '1 Geyser', '3 Light',...</td>\n",
              "      <td>['Security / Fire Alarm', 'Lift(s)', 'Maintena...</td>\n",
              "      <td>['Green Area5 out of 5', 'Construction4 out of...</td>\n",
              "    </tr>\n",
              "  </tbody>\n",
              "</table>\n",
              "</div>\n",
              "    <div class=\"colab-df-buttons\">\n",
              "\n",
              "  <div class=\"colab-df-container\">\n",
              "    <button class=\"colab-df-convert\" onclick=\"convertToInteractive('df-f7a3879c-db4a-4044-a195-2952850daf8c')\"\n",
              "            title=\"Convert this dataframe to an interactive table.\"\n",
              "            style=\"display:none;\">\n",
              "\n",
              "  <svg xmlns=\"http://www.w3.org/2000/svg\" height=\"24px\" viewBox=\"0 -960 960 960\">\n",
              "    <path d=\"M120-120v-720h720v720H120Zm60-500h600v-160H180v160Zm220 220h160v-160H400v160Zm0 220h160v-160H400v160ZM180-400h160v-160H180v160Zm440 0h160v-160H620v160ZM180-180h160v-160H180v160Zm440 0h160v-160H620v160Z\"/>\n",
              "  </svg>\n",
              "    </button>\n",
              "\n",
              "  <style>\n",
              "    .colab-df-container {\n",
              "      display:flex;\n",
              "      gap: 12px;\n",
              "    }\n",
              "\n",
              "    .colab-df-convert {\n",
              "      background-color: #E8F0FE;\n",
              "      border: none;\n",
              "      border-radius: 50%;\n",
              "      cursor: pointer;\n",
              "      display: none;\n",
              "      fill: #1967D2;\n",
              "      height: 32px;\n",
              "      padding: 0 0 0 0;\n",
              "      width: 32px;\n",
              "    }\n",
              "\n",
              "    .colab-df-convert:hover {\n",
              "      background-color: #E2EBFA;\n",
              "      box-shadow: 0px 1px 2px rgba(60, 64, 67, 0.3), 0px 1px 3px 1px rgba(60, 64, 67, 0.15);\n",
              "      fill: #174EA6;\n",
              "    }\n",
              "\n",
              "    .colab-df-buttons div {\n",
              "      margin-bottom: 4px;\n",
              "    }\n",
              "\n",
              "    [theme=dark] .colab-df-convert {\n",
              "      background-color: #3B4455;\n",
              "      fill: #D2E3FC;\n",
              "    }\n",
              "\n",
              "    [theme=dark] .colab-df-convert:hover {\n",
              "      background-color: #434B5C;\n",
              "      box-shadow: 0px 1px 3px 1px rgba(0, 0, 0, 0.15);\n",
              "      filter: drop-shadow(0px 1px 2px rgba(0, 0, 0, 0.3));\n",
              "      fill: #FFFFFF;\n",
              "    }\n",
              "  </style>\n",
              "\n",
              "    <script>\n",
              "      const buttonEl =\n",
              "        document.querySelector('#df-f7a3879c-db4a-4044-a195-2952850daf8c button.colab-df-convert');\n",
              "      buttonEl.style.display =\n",
              "        google.colab.kernel.accessAllowed ? 'block' : 'none';\n",
              "\n",
              "      async function convertToInteractive(key) {\n",
              "        const element = document.querySelector('#df-f7a3879c-db4a-4044-a195-2952850daf8c');\n",
              "        const dataTable =\n",
              "          await google.colab.kernel.invokeFunction('convertToInteractive',\n",
              "                                                    [key], {});\n",
              "        if (!dataTable) return;\n",
              "\n",
              "        const docLinkHtml = 'Like what you see? Visit the ' +\n",
              "          '<a target=\"_blank\" href=https://colab.research.google.com/notebooks/data_table.ipynb>data table notebook</a>'\n",
              "          + ' to learn more about interactive tables.';\n",
              "        element.innerHTML = '';\n",
              "        dataTable['output_type'] = 'display_data';\n",
              "        await google.colab.output.renderOutput(dataTable, element);\n",
              "        const docLink = document.createElement('div');\n",
              "        docLink.innerHTML = docLinkHtml;\n",
              "        element.appendChild(docLink);\n",
              "      }\n",
              "    </script>\n",
              "  </div>\n",
              "\n",
              "\n",
              "<div id=\"df-af0ee425-4d52-4178-a6f6-19cd34f4e592\">\n",
              "  <button class=\"colab-df-quickchart\" onclick=\"quickchart('df-af0ee425-4d52-4178-a6f6-19cd34f4e592')\"\n",
              "            title=\"Suggest charts\"\n",
              "            style=\"display:none;\">\n",
              "\n",
              "<svg xmlns=\"http://www.w3.org/2000/svg\" height=\"24px\"viewBox=\"0 0 24 24\"\n",
              "     width=\"24px\">\n",
              "    <g>\n",
              "        <path d=\"M19 3H5c-1.1 0-2 .9-2 2v14c0 1.1.9 2 2 2h14c1.1 0 2-.9 2-2V5c0-1.1-.9-2-2-2zM9 17H7v-7h2v7zm4 0h-2V7h2v10zm4 0h-2v-4h2v4z\"/>\n",
              "    </g>\n",
              "</svg>\n",
              "  </button>\n",
              "\n",
              "<style>\n",
              "  .colab-df-quickchart {\n",
              "      --bg-color: #E8F0FE;\n",
              "      --fill-color: #1967D2;\n",
              "      --hover-bg-color: #E2EBFA;\n",
              "      --hover-fill-color: #174EA6;\n",
              "      --disabled-fill-color: #AAA;\n",
              "      --disabled-bg-color: #DDD;\n",
              "  }\n",
              "\n",
              "  [theme=dark] .colab-df-quickchart {\n",
              "      --bg-color: #3B4455;\n",
              "      --fill-color: #D2E3FC;\n",
              "      --hover-bg-color: #434B5C;\n",
              "      --hover-fill-color: #FFFFFF;\n",
              "      --disabled-bg-color: #3B4455;\n",
              "      --disabled-fill-color: #666;\n",
              "  }\n",
              "\n",
              "  .colab-df-quickchart {\n",
              "    background-color: var(--bg-color);\n",
              "    border: none;\n",
              "    border-radius: 50%;\n",
              "    cursor: pointer;\n",
              "    display: none;\n",
              "    fill: var(--fill-color);\n",
              "    height: 32px;\n",
              "    padding: 0;\n",
              "    width: 32px;\n",
              "  }\n",
              "\n",
              "  .colab-df-quickchart:hover {\n",
              "    background-color: var(--hover-bg-color);\n",
              "    box-shadow: 0 1px 2px rgba(60, 64, 67, 0.3), 0 1px 3px 1px rgba(60, 64, 67, 0.15);\n",
              "    fill: var(--button-hover-fill-color);\n",
              "  }\n",
              "\n",
              "  .colab-df-quickchart-complete:disabled,\n",
              "  .colab-df-quickchart-complete:disabled:hover {\n",
              "    background-color: var(--disabled-bg-color);\n",
              "    fill: var(--disabled-fill-color);\n",
              "    box-shadow: none;\n",
              "  }\n",
              "\n",
              "  .colab-df-spinner {\n",
              "    border: 2px solid var(--fill-color);\n",
              "    border-color: transparent;\n",
              "    border-bottom-color: var(--fill-color);\n",
              "    animation:\n",
              "      spin 1s steps(1) infinite;\n",
              "  }\n",
              "\n",
              "  @keyframes spin {\n",
              "    0% {\n",
              "      border-color: transparent;\n",
              "      border-bottom-color: var(--fill-color);\n",
              "      border-left-color: var(--fill-color);\n",
              "    }\n",
              "    20% {\n",
              "      border-color: transparent;\n",
              "      border-left-color: var(--fill-color);\n",
              "      border-top-color: var(--fill-color);\n",
              "    }\n",
              "    30% {\n",
              "      border-color: transparent;\n",
              "      border-left-color: var(--fill-color);\n",
              "      border-top-color: var(--fill-color);\n",
              "      border-right-color: var(--fill-color);\n",
              "    }\n",
              "    40% {\n",
              "      border-color: transparent;\n",
              "      border-right-color: var(--fill-color);\n",
              "      border-top-color: var(--fill-color);\n",
              "    }\n",
              "    60% {\n",
              "      border-color: transparent;\n",
              "      border-right-color: var(--fill-color);\n",
              "    }\n",
              "    80% {\n",
              "      border-color: transparent;\n",
              "      border-right-color: var(--fill-color);\n",
              "      border-bottom-color: var(--fill-color);\n",
              "    }\n",
              "    90% {\n",
              "      border-color: transparent;\n",
              "      border-bottom-color: var(--fill-color);\n",
              "    }\n",
              "  }\n",
              "</style>\n",
              "\n",
              "  <script>\n",
              "    async function quickchart(key) {\n",
              "      const quickchartButtonEl =\n",
              "        document.querySelector('#' + key + ' button');\n",
              "      quickchartButtonEl.disabled = true;  // To prevent multiple clicks.\n",
              "      quickchartButtonEl.classList.add('colab-df-spinner');\n",
              "      try {\n",
              "        const charts = await google.colab.kernel.invokeFunction(\n",
              "            'suggestCharts', [key], {});\n",
              "      } catch (error) {\n",
              "        console.error('Error during call to suggestCharts:', error);\n",
              "      }\n",
              "      quickchartButtonEl.classList.remove('colab-df-spinner');\n",
              "      quickchartButtonEl.classList.add('colab-df-quickchart-complete');\n",
              "    }\n",
              "    (() => {\n",
              "      let quickchartButtonEl =\n",
              "        document.querySelector('#df-af0ee425-4d52-4178-a6f6-19cd34f4e592 button');\n",
              "      quickchartButtonEl.style.display =\n",
              "        google.colab.kernel.accessAllowed ? 'block' : 'none';\n",
              "    })();\n",
              "  </script>\n",
              "</div>\n",
              "\n",
              "    </div>\n",
              "  </div>\n"
            ],
            "application/vnd.google.colaboratory.intrinsic+json": {
              "type": "dataframe",
              "summary": "{\n  \"name\": \"df\",\n  \"rows\": 10,\n  \"fields\": [\n    {\n      \"column\": \"property_name\",\n      \"properties\": {\n        \"dtype\": \"string\",\n        \"num_unique_values\": 10,\n        \"samples\": [\n          \"4 BHK Flat in Sector 72 Gurgaon\",\n          \"2 BHK Flat in Sector 99A Gurgaon\",\n          \"3 BHK Flat in Sector 84 Gurgaon\"\n        ],\n        \"semantic_type\": \"\",\n        \"description\": \"\"\n      }\n    },\n    {\n      \"column\": \"property_type\",\n      \"properties\": {\n        \"dtype\": \"category\",\n        \"num_unique_values\": 1,\n        \"samples\": [\n          \"flat\"\n        ],\n        \"semantic_type\": \"\",\n        \"description\": \"\"\n      }\n    },\n    {\n      \"column\": \"society\",\n      \"properties\": {\n        \"dtype\": \"string\",\n        \"num_unique_values\": 10,\n        \"samples\": [\n          \"tata primanti\"\n        ],\n        \"semantic_type\": \"\",\n        \"description\": \"\"\n      }\n    },\n    {\n      \"column\": \"price\",\n      \"properties\": {\n        \"dtype\": \"number\",\n        \"std\": 1.3895342944870255,\n        \"min\": 0.22,\n        \"max\": 5.0,\n        \"num_unique_values\": 10,\n        \"samples\": [\n          5.0\n        ],\n        \"semantic_type\": \"\",\n        \"description\": \"\"\n      }\n    },\n    {\n      \"column\": \"price_per_sqft\",\n      \"properties\": {\n        \"dtype\": \"number\",\n        \"std\": 2429.425961003957,\n        \"min\": 3666.0,\n        \"max\": 11363.0,\n        \"num_unique_values\": 10,\n        \"samples\": [\n          11363.0\n        ],\n        \"semantic_type\": \"\",\n        \"description\": \"\"\n      }\n    },\n    {\n      \"column\": \"area\",\n      \"properties\": {\n        \"dtype\": \"number\",\n        \"std\": 1112.0381937885247,\n        \"min\": 600.0,\n        \"max\": 4400.0,\n        \"num_unique_values\": 10,\n        \"samples\": [\n          4400.0\n        ],\n        \"semantic_type\": \"\",\n        \"description\": \"\"\n      }\n    },\n    {\n      \"column\": \"areaWithType\",\n      \"properties\": {\n        \"dtype\": \"string\",\n        \"num_unique_values\": 10,\n        \"samples\": [\n          \"Super Built up area 4400(408.77 sq.m.)Built Up area: 4000 sq.ft. (371.61 sq.m.)Carpet area: 3500 sq.ft. (325.16 sq.m.)\"\n        ],\n        \"semantic_type\": \"\",\n        \"description\": \"\"\n      }\n    },\n    {\n      \"column\": \"bedRoom\",\n      \"properties\": {\n        \"dtype\": \"number\",\n        \"std\": 0,\n        \"min\": 1,\n        \"max\": 4,\n        \"num_unique_values\": 4,\n        \"samples\": [\n          2\n        ],\n        \"semantic_type\": \"\",\n        \"description\": \"\"\n      }\n    },\n    {\n      \"column\": \"bathroom\",\n      \"properties\": {\n        \"dtype\": \"number\",\n        \"std\": 0,\n        \"min\": 1,\n        \"max\": 4,\n        \"num_unique_values\": 4,\n        \"samples\": [\n          2\n        ],\n        \"semantic_type\": \"\",\n        \"description\": \"\"\n      }\n    },\n    {\n      \"column\": \"balcony\",\n      \"properties\": {\n        \"dtype\": \"category\",\n        \"num_unique_values\": 4,\n        \"samples\": [\n          \"3\"\n        ],\n        \"semantic_type\": \"\",\n        \"description\": \"\"\n      }\n    },\n    {\n      \"column\": \"additionalRoom\",\n      \"properties\": {\n        \"dtype\": \"category\",\n        \"num_unique_values\": 4,\n        \"samples\": [\n          \"servant room\"\n        ],\n        \"semantic_type\": \"\",\n        \"description\": \"\"\n      }\n    },\n    {\n      \"column\": \"address\",\n      \"properties\": {\n        \"dtype\": \"string\",\n        \"num_unique_values\": 10,\n        \"samples\": [\n          \"Ef/7c, Sector 72 Gurgaon, Gurgaon, Haryana\"\n        ],\n        \"semantic_type\": \"\",\n        \"description\": \"\"\n      }\n    },\n    {\n      \"column\": \"floorNum\",\n      \"properties\": {\n        \"dtype\": \"number\",\n        \"std\": 4.90011337737313,\n        \"min\": 1.0,\n        \"max\": 14.0,\n        \"num_unique_values\": 9,\n        \"samples\": [\n          2.0\n        ],\n        \"semantic_type\": \"\",\n        \"description\": \"\"\n      }\n    },\n    {\n      \"column\": \"facing\",\n      \"properties\": {\n        \"dtype\": \"string\",\n        \"num_unique_values\": 5,\n        \"samples\": [\n          \"West\"\n        ],\n        \"semantic_type\": \"\",\n        \"description\": \"\"\n      }\n    },\n    {\n      \"column\": \"agePossession\",\n      \"properties\": {\n        \"dtype\": \"category\",\n        \"num_unique_values\": 4,\n        \"samples\": [\n          \"Within 6 months\"\n        ],\n        \"semantic_type\": \"\",\n        \"description\": \"\"\n      }\n    },\n    {\n      \"column\": \"nearbyLocations\",\n      \"properties\": {\n        \"dtype\": \"string\",\n        \"num_unique_values\": 10,\n        \"samples\": [\n          \"['Sector 55-56 Metro Station', 'Omaxe City Centre', 'Sohna Gurgaon Road', 'Faridabad Gurgaon Road', 'Pallavan PreSchool, Sohna Road', 'RBSM Public school', 'Polaris Hospital', 'Spaze Itech Park', 'Radisson Hotel Gurugram Sohna Road', 'SkyJumper Trampoline Park Gurgaon']\"\n        ],\n        \"semantic_type\": \"\",\n        \"description\": \"\"\n      }\n    },\n    {\n      \"column\": \"description\",\n      \"properties\": {\n        \"dtype\": \"string\",\n        \"num_unique_values\": 10,\n        \"samples\": [\n          \"This beautiful 4 bhk flat in sector 72 gurgaon is situated in tata primanti, one of the popular residential society in gurgaon. The flat is facing the north-East direction. Containing 4 bedroom(s), 4 bathrooms and more than 3 balconies, this flat is spread over a super built up area of 4400 sq.Ft. The residential building has 40 floors in total and the flat for sale is located on the 2nd floor. This 0-1 year old property is available for immediate possession as the project is ready to move. The well built marble flooring enhances the aesthetic appeal of this flat. Tata primanti is designed very well to provide modern facilities such as swimming pool, grocery shop, shopping centre, club house / community center, fitness centre / gym, park, lift(s), maintenance staff, visitor parking, water softening plant and security personnel. The residential project is well equipped to meet all your water needs through access to municipal corporation and borewell/tank supply.\"\n        ],\n        \"semantic_type\": \"\",\n        \"description\": \"\"\n      }\n    },\n    {\n      \"column\": \"furnishDetails\",\n      \"properties\": {\n        \"dtype\": \"string\",\n        \"num_unique_values\": 5,\n        \"samples\": [\n          \"['5 Fan', '3 Geyser', '6 Light', '3 AC', 'No Bed', 'No Chimney', 'No Curtains', 'No Dining Table', 'No Exhaust Fan', 'No Modular Kitchen', 'No Microwave', 'No Fridge', 'No Sofa', 'No Stove', 'No TV', 'No Wardrobe', 'No Washing Machine', 'No Water Purifier']\"\n        ],\n        \"semantic_type\": \"\",\n        \"description\": \"\"\n      }\n    },\n    {\n      \"column\": \"features\",\n      \"properties\": {\n        \"dtype\": \"string\",\n        \"num_unique_values\": 9,\n        \"samples\": [\n          \"['Centrally Air Conditioned', 'Water purifier', 'Security / Fire Alarm', 'Power Back-up', 'Feng Shui / Vaastu Compliant', 'Private Garden / Terrace', 'Intercom Facility', 'Lift(s)', 'High Ceiling Height', 'Maintenance Staff', 'False Ceiling Lighting', 'Water Storage', 'Separate entry for servant room', 'No open drainage around', 'Bank Attached Property', 'Piped-gas', 'Internet/wi-fi connectivity', 'Recently Renovated', 'Visitor Parking', 'Swimming Pool', 'Park', 'Security Personnel', 'Natural Light', 'Airy Rooms', 'Spacious Interiors', 'Low Density Society', 'Waste Disposal', 'Rain Water Harvesting', 'Water softening plant', 'Shopping Centre', 'Fitness Centre / GYM', 'Club house / Community Center']\"\n        ],\n        \"semantic_type\": \"\",\n        \"description\": \"\"\n      }\n    },\n    {\n      \"column\": \"rating\",\n      \"properties\": {\n        \"dtype\": \"string\",\n        \"num_unique_values\": 10,\n        \"samples\": [\n          \"['Green Area4 out of 5', 'Construction4 out of 5', 'Management5 out of 5', 'Amenities5 out of 5', 'Connectivity4 out of 5']\"\n        ],\n        \"semantic_type\": \"\",\n        \"description\": \"\"\n      }\n    }\n  ]\n}"
            }
          },
          "metadata": {},
          "execution_count": 4
        }
      ]
    },
    {
      "cell_type": "code",
      "source": [
        "df.shape"
      ],
      "metadata": {
        "colab": {
          "base_uri": "https://localhost:8080/"
        },
        "id": "iwTElM8t7ns8",
        "outputId": "0c68f5e2-adfd-4720-a5ef-641901c90f1b"
      },
      "execution_count": null,
      "outputs": [
        {
          "output_type": "execute_result",
          "data": {
            "text/plain": [
              "(3961, 20)"
            ]
          },
          "metadata": {},
          "execution_count": 5
        }
      ]
    },
    {
      "cell_type": "code",
      "source": [
        "df = df.sample(df.shape[0],ignore_index=True)\n"
      ],
      "metadata": {
        "id": "MKmAadIs7nwU"
      },
      "execution_count": null,
      "outputs": []
    },
    {
      "cell_type": "code",
      "source": [
        "df.shape"
      ],
      "metadata": {
        "colab": {
          "base_uri": "https://localhost:8080/"
        },
        "id": "cv7V2OFD7nzx",
        "outputId": "97da7fab-0bb4-4d32-e8de-075c20cf651c"
      },
      "execution_count": null,
      "outputs": [
        {
          "output_type": "execute_result",
          "data": {
            "text/plain": [
              "(3961, 20)"
            ]
          },
          "metadata": {},
          "execution_count": 7
        }
      ]
    },
    {
      "cell_type": "code",
      "source": [
        "df.to_csv('gurgaon_properties.csv',index=False)\n"
      ],
      "metadata": {
        "id": "Rru-VUQ07n3Q"
      },
      "execution_count": null,
      "outputs": []
    },
    {
      "cell_type": "code",
      "source": [],
      "metadata": {
        "id": "Gus6JuMf7n62"
      },
      "execution_count": null,
      "outputs": []
    },
    {
      "cell_type": "code",
      "source": [],
      "metadata": {
        "id": "bE1XiqT57n96"
      },
      "execution_count": null,
      "outputs": []
    },
    {
      "cell_type": "code",
      "source": [],
      "metadata": {
        "id": "hBD1afvc7oBe"
      },
      "execution_count": null,
      "outputs": []
    },
    {
      "cell_type": "code",
      "source": [],
      "metadata": {
        "id": "T3FRS1o57oE6"
      },
      "execution_count": null,
      "outputs": []
    },
    {
      "cell_type": "code",
      "source": [],
      "metadata": {
        "id": "EwF6K7qf7oIW"
      },
      "execution_count": null,
      "outputs": []
    },
    {
      "cell_type": "code",
      "source": [],
      "metadata": {
        "id": "z1XbmYDQ7oL1"
      },
      "execution_count": null,
      "outputs": []
    },
    {
      "cell_type": "code",
      "source": [],
      "metadata": {
        "id": "RrrHMyWu7oPG"
      },
      "execution_count": null,
      "outputs": []
    },
    {
      "cell_type": "code",
      "source": [],
      "metadata": {
        "id": "0qvcBMSd7oSb"
      },
      "execution_count": null,
      "outputs": []
    },
    {
      "cell_type": "code",
      "source": [],
      "metadata": {
        "id": "u9OErldc7oV4"
      },
      "execution_count": null,
      "outputs": []
    },
    {
      "cell_type": "code",
      "source": [],
      "metadata": {
        "id": "a_ZPgv8M7oZW"
      },
      "execution_count": null,
      "outputs": []
    },
    {
      "cell_type": "code",
      "source": [],
      "metadata": {
        "id": "ZZwa5JV97oc4"
      },
      "execution_count": null,
      "outputs": []
    },
    {
      "cell_type": "code",
      "source": [],
      "metadata": {
        "id": "Cli6Yzkp7of5"
      },
      "execution_count": null,
      "outputs": []
    },
    {
      "cell_type": "code",
      "source": [],
      "metadata": {
        "id": "cEdtYxkj7ojA"
      },
      "execution_count": null,
      "outputs": []
    },
    {
      "cell_type": "code",
      "source": [],
      "metadata": {
        "id": "ktwWkhj_7ome"
      },
      "execution_count": null,
      "outputs": []
    },
    {
      "cell_type": "code",
      "source": [],
      "metadata": {
        "id": "ldPZT8PI7opr"
      },
      "execution_count": null,
      "outputs": []
    },
    {
      "cell_type": "code",
      "source": [],
      "metadata": {
        "id": "BMPfcFI87otU"
      },
      "execution_count": null,
      "outputs": []
    },
    {
      "cell_type": "code",
      "source": [],
      "metadata": {
        "id": "mL-9wbVI7owj"
      },
      "execution_count": null,
      "outputs": []
    },
    {
      "cell_type": "code",
      "source": [],
      "metadata": {
        "id": "azxuwl8i7o04"
      },
      "execution_count": null,
      "outputs": []
    },
    {
      "cell_type": "code",
      "source": [],
      "metadata": {
        "id": "gdPBHVFu7o29"
      },
      "execution_count": null,
      "outputs": []
    },
    {
      "cell_type": "code",
      "source": [],
      "metadata": {
        "id": "J9mnUV7t7o5H"
      },
      "execution_count": null,
      "outputs": []
    },
    {
      "cell_type": "code",
      "source": [],
      "metadata": {
        "id": "gllv5kbp7o8t"
      },
      "execution_count": null,
      "outputs": []
    },
    {
      "cell_type": "code",
      "source": [],
      "metadata": {
        "id": "tIKUr4mp7o_D"
      },
      "execution_count": null,
      "outputs": []
    },
    {
      "cell_type": "code",
      "source": [],
      "metadata": {
        "id": "vTLl4RYa7pA3"
      },
      "execution_count": null,
      "outputs": []
    },
    {
      "cell_type": "code",
      "source": [],
      "metadata": {
        "id": "rMwY7Vkf7pDC"
      },
      "execution_count": null,
      "outputs": []
    },
    {
      "cell_type": "code",
      "source": [],
      "metadata": {
        "id": "JQvcIdmB7pFG"
      },
      "execution_count": null,
      "outputs": []
    },
    {
      "cell_type": "code",
      "source": [],
      "metadata": {
        "id": "AL6HwFCo7pHs"
      },
      "execution_count": null,
      "outputs": []
    },
    {
      "cell_type": "code",
      "source": [],
      "metadata": {
        "id": "oXe5_Tvt7pJi"
      },
      "execution_count": null,
      "outputs": []
    },
    {
      "cell_type": "code",
      "source": [],
      "metadata": {
        "id": "f3uNscre7pL-"
      },
      "execution_count": null,
      "outputs": []
    },
    {
      "cell_type": "code",
      "source": [],
      "metadata": {
        "id": "cJOVu_z07pNu"
      },
      "execution_count": null,
      "outputs": []
    },
    {
      "cell_type": "code",
      "source": [],
      "metadata": {
        "id": "x_t_5Zyx7pQM"
      },
      "execution_count": null,
      "outputs": []
    },
    {
      "cell_type": "code",
      "source": [],
      "metadata": {
        "id": "MrfljI707pSB"
      },
      "execution_count": null,
      "outputs": []
    },
    {
      "cell_type": "code",
      "source": [],
      "metadata": {
        "id": "d2HYeGIW7pUT"
      },
      "execution_count": null,
      "outputs": []
    },
    {
      "cell_type": "code",
      "source": [],
      "metadata": {
        "id": "7VnzWWNR7pud"
      },
      "execution_count": null,
      "outputs": []
    },
    {
      "cell_type": "code",
      "source": [],
      "metadata": {
        "id": "b8d8ZjWI7p0z"
      },
      "execution_count": null,
      "outputs": []
    },
    {
      "cell_type": "code",
      "source": [],
      "metadata": {
        "id": "lG2IFZdJ7p21"
      },
      "execution_count": null,
      "outputs": []
    },
    {
      "cell_type": "code",
      "source": [],
      "metadata": {
        "id": "kFn69BWS7p4R"
      },
      "execution_count": null,
      "outputs": []
    },
    {
      "cell_type": "code",
      "source": [],
      "metadata": {
        "id": "THGFFxNF7p7Z"
      },
      "execution_count": null,
      "outputs": []
    },
    {
      "cell_type": "code",
      "source": [],
      "metadata": {
        "id": "VYqfR2fa7p9X"
      },
      "execution_count": null,
      "outputs": []
    },
    {
      "cell_type": "code",
      "source": [],
      "metadata": {
        "id": "lG70j0Tt7p_N"
      },
      "execution_count": null,
      "outputs": []
    },
    {
      "cell_type": "code",
      "source": [],
      "metadata": {
        "id": "PPPD2JI67qBN"
      },
      "execution_count": null,
      "outputs": []
    },
    {
      "cell_type": "code",
      "source": [],
      "metadata": {
        "id": "gBjF8d737qEj"
      },
      "execution_count": null,
      "outputs": []
    },
    {
      "cell_type": "code",
      "source": [],
      "metadata": {
        "id": "U6Z2raiX7qpY"
      },
      "execution_count": null,
      "outputs": []
    },
    {
      "cell_type": "code",
      "source": [],
      "metadata": {
        "id": "Idedojob7qu3"
      },
      "execution_count": null,
      "outputs": []
    },
    {
      "cell_type": "code",
      "source": [],
      "metadata": {
        "id": "LpMb9c1c7qyM"
      },
      "execution_count": null,
      "outputs": []
    },
    {
      "cell_type": "code",
      "source": [],
      "metadata": {
        "id": "vh-L9LG-7q6z"
      },
      "execution_count": null,
      "outputs": []
    },
    {
      "cell_type": "code",
      "source": [],
      "metadata": {
        "id": "FjlvVjTO7q90"
      },
      "execution_count": null,
      "outputs": []
    },
    {
      "cell_type": "code",
      "source": [],
      "metadata": {
        "id": "ZpreN-JN7rCX"
      },
      "execution_count": null,
      "outputs": []
    },
    {
      "cell_type": "code",
      "source": [],
      "metadata": {
        "id": "vIJt0xp_7rFJ"
      },
      "execution_count": null,
      "outputs": []
    },
    {
      "cell_type": "code",
      "source": [],
      "metadata": {
        "id": "_Cqkn9Ea7rID"
      },
      "execution_count": null,
      "outputs": []
    },
    {
      "cell_type": "code",
      "source": [],
      "metadata": {
        "id": "cG_c6WY07rKq"
      },
      "execution_count": null,
      "outputs": []
    },
    {
      "cell_type": "code",
      "source": [],
      "metadata": {
        "id": "V-JZNQAh7rNU"
      },
      "execution_count": null,
      "outputs": []
    },
    {
      "cell_type": "code",
      "source": [],
      "metadata": {
        "id": "FEs8sLRn7rRE"
      },
      "execution_count": null,
      "outputs": []
    },
    {
      "cell_type": "code",
      "source": [],
      "metadata": {
        "id": "WLMpc1if7rSq"
      },
      "execution_count": null,
      "outputs": []
    },
    {
      "cell_type": "code",
      "source": [],
      "metadata": {
        "id": "IszcY1hU7rWB"
      },
      "execution_count": null,
      "outputs": []
    },
    {
      "cell_type": "code",
      "source": [],
      "metadata": {
        "id": "KDuzQLeW7rXm"
      },
      "execution_count": null,
      "outputs": []
    },
    {
      "cell_type": "code",
      "source": [],
      "metadata": {
        "id": "JSUsxvWT7rZ0"
      },
      "execution_count": null,
      "outputs": []
    },
    {
      "cell_type": "code",
      "source": [],
      "metadata": {
        "id": "DCRj_oTb7rb1"
      },
      "execution_count": null,
      "outputs": []
    },
    {
      "cell_type": "code",
      "source": [],
      "metadata": {
        "id": "zJHp9RaG7rd2"
      },
      "execution_count": null,
      "outputs": []
    },
    {
      "cell_type": "code",
      "source": [],
      "metadata": {
        "id": "8fomsvYE7rft"
      },
      "execution_count": null,
      "outputs": []
    },
    {
      "cell_type": "code",
      "source": [],
      "metadata": {
        "id": "TxqGR24p7riI"
      },
      "execution_count": null,
      "outputs": []
    },
    {
      "cell_type": "code",
      "source": [],
      "metadata": {
        "id": "acw9Xll57rjt"
      },
      "execution_count": null,
      "outputs": []
    },
    {
      "cell_type": "code",
      "source": [],
      "metadata": {
        "id": "ptbhE-LN7rmh"
      },
      "execution_count": null,
      "outputs": []
    },
    {
      "cell_type": "code",
      "source": [],
      "metadata": {
        "id": "xJCFhkdC7roz"
      },
      "execution_count": null,
      "outputs": []
    },
    {
      "cell_type": "code",
      "source": [],
      "metadata": {
        "id": "5v837i967rqb"
      },
      "execution_count": null,
      "outputs": []
    },
    {
      "cell_type": "code",
      "source": [],
      "metadata": {
        "id": "9pRecHX87rtE"
      },
      "execution_count": null,
      "outputs": []
    },
    {
      "cell_type": "code",
      "source": [],
      "metadata": {
        "id": "LjsVh2hx7rv7"
      },
      "execution_count": null,
      "outputs": []
    },
    {
      "cell_type": "code",
      "source": [],
      "metadata": {
        "id": "syzlRJ867ryS"
      },
      "execution_count": null,
      "outputs": []
    },
    {
      "cell_type": "code",
      "source": [],
      "metadata": {
        "id": "y9asYxMH7r1b"
      },
      "execution_count": null,
      "outputs": []
    },
    {
      "cell_type": "code",
      "source": [],
      "metadata": {
        "id": "sICVrMvl7r3k"
      },
      "execution_count": null,
      "outputs": []
    },
    {
      "cell_type": "code",
      "source": [],
      "metadata": {
        "id": "j3uR5OEP7r6T"
      },
      "execution_count": null,
      "outputs": []
    },
    {
      "cell_type": "code",
      "source": [],
      "metadata": {
        "id": "pfA3Ptg17r8a"
      },
      "execution_count": null,
      "outputs": []
    },
    {
      "cell_type": "code",
      "source": [],
      "metadata": {
        "id": "2TNn36lh7r_C"
      },
      "execution_count": null,
      "outputs": []
    },
    {
      "cell_type": "code",
      "source": [],
      "metadata": {
        "id": "uAhVvdW_7sGP"
      },
      "execution_count": null,
      "outputs": []
    },
    {
      "cell_type": "code",
      "source": [],
      "metadata": {
        "id": "IN1rHFzn7sH9"
      },
      "execution_count": null,
      "outputs": []
    },
    {
      "cell_type": "code",
      "source": [],
      "metadata": {
        "id": "_o_zeJ_w7sTd"
      },
      "execution_count": null,
      "outputs": []
    },
    {
      "cell_type": "code",
      "source": [],
      "metadata": {
        "id": "lHDNvzfQ7sXB"
      },
      "execution_count": null,
      "outputs": []
    },
    {
      "cell_type": "code",
      "source": [],
      "metadata": {
        "id": "3YBWS5jH7sc2"
      },
      "execution_count": null,
      "outputs": []
    },
    {
      "cell_type": "code",
      "source": [],
      "metadata": {
        "id": "D4zT5MG67sf-"
      },
      "execution_count": null,
      "outputs": []
    },
    {
      "cell_type": "code",
      "source": [],
      "metadata": {
        "id": "FkRwqh547sjU"
      },
      "execution_count": null,
      "outputs": []
    }
  ]
}